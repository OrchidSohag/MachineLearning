{
 "cells": [
  {
   "cell_type": "code",
   "execution_count": 43,
   "metadata": {},
   "outputs": [],
   "source": [
    "# Importing modules\n",
    "import tensorflow as tf\n",
    "from keras.datasets import mnist\n",
    "from keras.utils.np_utils import to_categorical\n",
    "import matplotlib.pyplot as plt\n",
    "from keras.models import Sequential\n",
    "from keras.layers import Dense, Conv2D, MaxPooling2D, Flatten, Dropout"
   ]
  },
  {
   "cell_type": "code",
   "execution_count": 44,
   "metadata": {},
   "outputs": [
    {
     "name": "stdout",
     "output_type": "stream",
     "text": [
      "4\n"
     ]
    },
    {
     "data": {
      "text/plain": [
       "(60000, 28, 28)"
      ]
     },
     "execution_count": 44,
     "metadata": {},
     "output_type": "execute_result"
    },
    {
     "data": {
      "image/png": "[encoded data removed]",
      "text/plain": [
       "<Figure size 432x288 with 1 Axes>"
      ]
     },
     "metadata": {
      "needs_background": "light"
     },
     "output_type": "display_data"
    }
   ],
   "source": [
    "# Load Data\n",
    "(x_train, y_train), (x_test, y_test) = mnist.load_data()\n",
    "imageIndex = 150\n",
    "print(y_train[imageIndex]) \n",
    "plt.imshow(x_train[imageIndex])\n",
    "\n",
    "x_train.shape"
   ]
  },
  {
   "cell_type": "code",
   "execution_count": 45,
   "metadata": {},
   "outputs": [
    {
     "name": "stdout",
     "output_type": "stream",
     "text": [
      "x_train new shape: (60000, 28, 28, 1)\n",
      "x_train Total Image :  60000\n",
      "x_test Total Image :  10000\n",
      "[[0. 0. 0. ... 1. 0. 0.]\n",
      " [0. 0. 1. ... 0. 0. 0.]\n",
      " [0. 1. 0. ... 0. 0. 0.]\n",
      " ...\n",
      " [0. 0. 0. ... 0. 0. 0.]\n",
      " [0. 0. 0. ... 0. 0. 0.]\n",
      " [0. 0. 0. ... 0. 0. 0.]]\n"
     ]
    }
   ],
   "source": [
    "# Reshaping to 4-dimension\n",
    "x_train = x_train.reshape(x_train.shape[0], 28, 28, 1)\n",
    "x_test = x_test.reshape(x_test.shape[0], 28, 28, 1)\n",
    "input_shape = (28, 28, 1)\n",
    "\n",
    "# Converting to float\n",
    "x_train = x_train.astype('float32')\n",
    "x_test = x_test.astype('float32')\n",
    "\n",
    "# Normalization\n",
    "x_train /= 255\n",
    "x_test /= 255\n",
    "y_train = to_categorical(y_train)\n",
    "y_test = to_categorical(y_test)\n",
    "print('x_train new shape:', x_train.shape)\n",
    "print('x_train Total Image : ', x_train.shape[0])\n",
    "print('x_test Total Image : ', x_test.shape[0])\n",
    "# print(y_test)"
   ]
  },
  {
   "cell_type": "code",
   "execution_count": 46,
   "metadata": {},
   "outputs": [],
   "source": [
    "# Sequential Model and adding the layers\n",
    "model = Sequential()\n",
    "model.add(Conv2D(28, kernel_size=(3,3), input_shape=input_shape))\n",
    "model.add(MaxPooling2D(pool_size=(2, 2)))\n",
    "model.add(Flatten())\n",
    "model.add(Dense(128, activation='relu'))\n",
    "model.add(Dropout(0.2))\n",
    "model.add(Dense(10,activation='softmax'))"
   ]
  },
  {
   "cell_type": "code",
   "execution_count": 47,
   "metadata": {},
   "outputs": [
    {
     "name": "stdout",
     "output_type": "stream",
     "text": [
      "Train on 60000 samples, validate on 10000 samples\n",
      "Epoch 1/8\n",
      "60000/60000 [==============================] - 104s 2ms/step - loss: 0.2119 - acc: 0.9365 - val_loss: 0.0729 - val_acc: 0.9777\n",
      "Epoch 2/8\n",
      "60000/60000 [==============================] - 106s 2ms/step - loss: 0.0864 - acc: 0.9737 - val_loss: 0.0647 - val_acc: 0.9793\n",
      "Epoch 3/8\n",
      "60000/60000 [==============================] - 100s 2ms/step - loss: 0.0591 - acc: 0.9813 - val_loss: 0.0581 - val_acc: 0.9819\n",
      "Epoch 4/8\n",
      "60000/60000 [==============================] - 100s 2ms/step - loss: 0.0457 - acc: 0.9858 - val_loss: 0.0522 - val_acc: 0.9850\n",
      "Epoch 5/8\n",
      "60000/60000 [==============================] - 101s 2ms/step - loss: 0.0379 - acc: 0.9877 - val_loss: 0.0622 - val_acc: 0.9816\n",
      "Epoch 6/8\n",
      "60000/60000 [==============================] - 100s 2ms/step - loss: 0.0300 - acc: 0.9900 - val_loss: 0.0633 - val_acc: 0.9842\n",
      "Epoch 7/8\n",
      "60000/60000 [==============================] - 102s 2ms/step - loss: 0.0272 - acc: 0.9906 - val_loss: 0.0576 - val_acc: 0.9844\n",
      "Epoch 8/8\n",
      "60000/60000 [==============================] - 100s 2ms/step - loss: 0.0236 - acc: 0.9919 - val_loss: 0.0628 - val_acc: 0.9834\n"
     ]
    },
    {
     "data": {
      "text/plain": [
       "<keras.callbacks.History at 0x238596077f0>"
      ]
     },
     "execution_count": 47,
     "metadata": {},
     "output_type": "execute_result"
    }
   ],
   "source": [
    "#Compiling Model\n",
    "model.compile(optimizer='adam', loss='categorical_crossentropy', metrics=['accuracy'])\n",
    "model.fit(x_train, y_train, validation_data=(x_test, y_test), epochs=8)"
   ]
  },
  {
   "cell_type": "code",
   "execution_count": 48,
   "metadata": {},
   "outputs": [
    {
     "name": "stdout",
     "output_type": "stream",
     "text": [
      "10000/10000 [==============================] - 7s 695us/step\n",
      "Test Loss :  0.06278673161658625\n",
      "Test Accuracy : 98.34 %\n"
     ]
    }
   ],
   "source": [
    "# Evaluating Model\n",
    "result = model.evaluate(x_test, y_test)\n",
    "print('Test Loss : ', result[0])\n",
    "print('Test Accuracy : {} %'.format(result[1]*100))"
   ]
  },
  {
   "cell_type": "code",
   "execution_count": 57,
   "metadata": {},
   "outputs": [
    {
     "name": "stdout",
     "output_type": "stream",
     "text": [
      "0\n"
     ]
    }
   ],
   "source": [
    "# Predicting image\n",
    "# imageIndex = 5\n",
    "# plt.imshow(x_test[imageIndex])\n",
    "# prediction = model.predict(x_test[:4])\n",
    "# print(prediction.argmax())\n",
    "prediction = model.predict(x_test[:4])\n",
    "print(prediction[3].argmax())"
   ]
  },
  {
   "cell_type": "code",
   "execution_count": 61,
   "metadata": {},
   "outputs": [
    {
     "data": {
      "text/plain": [
       "2"
      ]
     },
     "execution_count": 61,
     "metadata": {},
     "output_type": "execute_result"
    }
   ],
   "source": [
    "model.predict(x_test[1:2]).argmax()"
   ]
  },
  {
   "cell_type": "code",
   "execution_count": 63,
   "metadata": {},
   "outputs": [
    {
     "data": {
      "text/plain": [
       "1"
      ]
     },
     "execution_count": 63,
     "metadata": {},
     "output_type": "execute_result"
    }
   ],
   "source": [
    "model.predict(x_test[2].reshape(1,28,28,1)).argmax()"
   ]
  },
  {
   "cell_type": "code",
   "execution_count": null,
   "metadata": {},
   "outputs": [],
   "source": []
  }
 ],
 "metadata": {
  "kernelspec": {
   "display_name": "Python 3",
   "language": "python",
   "name": "python3"
  },
  "language_info": {
   "codemirror_mode": {
    "name": "ipython",
    "version": 3
   },
   "file_extension": ".py",
   "mimetype": "text/x-python",
   "name": "python",
   "nbconvert_exporter": "python",
   "pygments_lexer": "ipython3",
   "version": "3.7.1"
  }
 },
 "nbformat": 4,
 "nbformat_minor": 2
}
